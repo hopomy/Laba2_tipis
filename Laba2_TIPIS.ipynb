{
 "cells": [
  {
   "cell_type": "code",
   "execution_count": 2,
   "id": "69980107",
   "metadata": {},
   "outputs": [],
   "source": [
    "import numpy as np\n",
    "import pandas as pd\n",
    "from sklearn.linear_model import LinearRegression\n",
    "from sklearn.model_selection import train_test_split\n",
    "from sklearn.metrics import mean_squared_error\n",
    "import matplotlib.pyplot as plt"
   ]
  },
  {
   "cell_type": "code",
   "execution_count": 99,
   "id": "7622b4c1",
   "metadata": {},
   "outputs": [],
   "source": [
    "#Сырые данные\n",
    "raw_data = [('208500', 'Дерево', 'ЮБ', 'Коттедж', 'Мансардная', 'Газон'),\n",
    " ('181500', 'Кирпич', 'СВ', 'Коттедж', 'Односкатная', 'Газон'),\n",
    " ('223500', 'Краска', 'ЮБ', 'Таунхаус', 'Двускатная', 'Японский сад'),\n",
    " ('140000', 'Дерево', 'МР', 'Коттедж', 'Мансардная', 'Пруд'),\n",
    " ('250000', 'Дерево', 'СВ', 'Коттедж', 'Мансардная', 'Пруд'),\n",
    " ('143000', 'Дерево', 'ЮБ', 'Дуплекс', 'Двускатная', 'Японский сад'),\n",
    " ('307000', 'Краска', 'ЮБ', 'Коттедж', 'Двускатная', 'Газон'),\n",
    " ('200000', 'Штукатурка', 'МР', 'Таунхаус', 'Многощипцовая', 'Клумбы'),\n",
    " ('129900', 'Дерево', 'СТ', 'Таунхаус', 'Односкатная', 'Клумбы'),\n",
    " ('118000', 'Штукатурка', 'МР', 'Таунхаус', 'Многощипцовая', 'Газон'),\n",
    " ('129500', 'Дерево', 'ЮБ', 'Коттедж', 'Мансардная', 'Сад'),\n",
    " ('345000', 'Дерево', 'ЮБ', 'Коттедж', 'Односкатная', 'Сад'),\n",
    " ('144000', 'Штукатурка', 'ЮБ', 'Дуплекс', 'Многощипцовая', 'Газон'),\n",
    " ('279500', 'Дерево', 'ЮБ', 'Коттедж', 'Мансардная', 'Газон'),\n",
    " ('157000', 'Дерево', 'МР', 'Коттедж', 'Мансардная', 'Клумбы'),\n",
    " ('132000', 'Кирпич', 'МР', 'Таунхаус', 'Мансардная', 'Газон'),\n",
    " ('149000', 'Краска', 'СТ', 'Коттедж', 'Односкатная', 'Сад'),\n",
    " ('90000', 'Дерево', 'СТ', 'Дуплекс', 'Двускатная', 'Пруд'),\n",
    " ('159000', 'Дерево', 'ЮБ', 'Коттедж', 'Мансардная', 'Газон'),\n",
    " ('139000', 'Штукатурка', 'ЮБ', 'Дуплекс', 'Многощипцовая', 'Сад')]"
   ]
  },
  {
   "cell_type": "code",
   "execution_count": 100,
   "id": "1e897824",
   "metadata": {},
   "outputs": [],
   "source": [
    "columns_name = ['Цена', 'Материал отделки', 'Район', 'Тип дома', 'Тип крыши', 'Ландшафт']"
   ]
  },
  {
   "cell_type": "code",
   "execution_count": 101,
   "id": "812cd1f9",
   "metadata": {},
   "outputs": [],
   "source": [
    "data = pd.DataFrame(raw_data, columns=columns_name)"
   ]
  },
  {
   "cell_type": "code",
   "execution_count": 102,
   "id": "07484a2e",
   "metadata": {},
   "outputs": [
    {
     "data": {
      "text/html": [
       "<div>\n",
       "<style scoped>\n",
       "    .dataframe tbody tr th:only-of-type {\n",
       "        vertical-align: middle;\n",
       "    }\n",
       "\n",
       "    .dataframe tbody tr th {\n",
       "        vertical-align: top;\n",
       "    }\n",
       "\n",
       "    .dataframe thead th {\n",
       "        text-align: right;\n",
       "    }\n",
       "</style>\n",
       "<table border=\"1\" class=\"dataframe\">\n",
       "  <thead>\n",
       "    <tr style=\"text-align: right;\">\n",
       "      <th></th>\n",
       "      <th>Цена</th>\n",
       "      <th>Материал отделки</th>\n",
       "      <th>Район</th>\n",
       "      <th>Тип дома</th>\n",
       "      <th>Тип крыши</th>\n",
       "      <th>Ландшафт</th>\n",
       "    </tr>\n",
       "  </thead>\n",
       "  <tbody>\n",
       "    <tr>\n",
       "      <th>0</th>\n",
       "      <td>208500</td>\n",
       "      <td>Дерево</td>\n",
       "      <td>ЮБ</td>\n",
       "      <td>Коттедж</td>\n",
       "      <td>Мансардная</td>\n",
       "      <td>Газон</td>\n",
       "    </tr>\n",
       "    <tr>\n",
       "      <th>1</th>\n",
       "      <td>181500</td>\n",
       "      <td>Кирпич</td>\n",
       "      <td>СВ</td>\n",
       "      <td>Коттедж</td>\n",
       "      <td>Односкатная</td>\n",
       "      <td>Газон</td>\n",
       "    </tr>\n",
       "    <tr>\n",
       "      <th>2</th>\n",
       "      <td>223500</td>\n",
       "      <td>Краска</td>\n",
       "      <td>ЮБ</td>\n",
       "      <td>Таунхаус</td>\n",
       "      <td>Двускатная</td>\n",
       "      <td>Японский сад</td>\n",
       "    </tr>\n",
       "    <tr>\n",
       "      <th>3</th>\n",
       "      <td>140000</td>\n",
       "      <td>Дерево</td>\n",
       "      <td>МР</td>\n",
       "      <td>Коттедж</td>\n",
       "      <td>Мансардная</td>\n",
       "      <td>Пруд</td>\n",
       "    </tr>\n",
       "    <tr>\n",
       "      <th>4</th>\n",
       "      <td>250000</td>\n",
       "      <td>Дерево</td>\n",
       "      <td>СВ</td>\n",
       "      <td>Коттедж</td>\n",
       "      <td>Мансардная</td>\n",
       "      <td>Пруд</td>\n",
       "    </tr>\n",
       "  </tbody>\n",
       "</table>\n",
       "</div>"
      ],
      "text/plain": [
       "     Цена Материал отделки Район  Тип дома    Тип крыши      Ландшафт\n",
       "0  208500           Дерево    ЮБ   Коттедж   Мансардная         Газон\n",
       "1  181500           Кирпич    СВ   Коттедж  Односкатная         Газон\n",
       "2  223500           Краска    ЮБ  Таунхаус   Двускатная  Японский сад\n",
       "3  140000           Дерево    МР   Коттедж   Мансардная          Пруд\n",
       "4  250000           Дерево    СВ   Коттедж   Мансардная          Пруд"
      ]
     },
     "execution_count": 102,
     "metadata": {},
     "output_type": "execute_result"
    }
   ],
   "source": [
    "data.head()"
   ]
  },
  {
   "cell_type": "code",
   "execution_count": 103,
   "id": "6a61863e",
   "metadata": {},
   "outputs": [
    {
     "data": {
      "text/plain": [
       "(20, 6)"
      ]
     },
     "execution_count": 103,
     "metadata": {},
     "output_type": "execute_result"
    }
   ],
   "source": [
    "data.shape"
   ]
  },
  {
   "cell_type": "code",
   "execution_count": 104,
   "id": "83ddb13d",
   "metadata": {},
   "outputs": [
    {
     "name": "stdout",
     "output_type": "stream",
     "text": [
      "<class 'pandas.core.frame.DataFrame'>\n",
      "RangeIndex: 20 entries, 0 to 19\n",
      "Data columns (total 6 columns):\n",
      " #   Column            Non-Null Count  Dtype \n",
      "---  ------            --------------  ----- \n",
      " 0   Цена              20 non-null     object\n",
      " 1   Материал отделки  20 non-null     object\n",
      " 2   Район             20 non-null     object\n",
      " 3   Тип дома          20 non-null     object\n",
      " 4   Тип крыши         20 non-null     object\n",
      " 5   Ландшафт          20 non-null     object\n",
      "dtypes: object(6)\n",
      "memory usage: 1.1+ KB\n"
     ]
    }
   ],
   "source": [
    "data.info()"
   ]
  },
  {
   "cell_type": "code",
   "execution_count": 105,
   "id": "0c244657",
   "metadata": {},
   "outputs": [
    {
     "data": {
      "text/html": [
       "<div>\n",
       "<style scoped>\n",
       "    .dataframe tbody tr th:only-of-type {\n",
       "        vertical-align: middle;\n",
       "    }\n",
       "\n",
       "    .dataframe tbody tr th {\n",
       "        vertical-align: top;\n",
       "    }\n",
       "\n",
       "    .dataframe thead th {\n",
       "        text-align: right;\n",
       "    }\n",
       "</style>\n",
       "<table border=\"1\" class=\"dataframe\">\n",
       "  <thead>\n",
       "    <tr style=\"text-align: right;\">\n",
       "      <th></th>\n",
       "      <th>Цена</th>\n",
       "      <th>Материал отделки</th>\n",
       "      <th>Район</th>\n",
       "      <th>Тип дома</th>\n",
       "      <th>Тип крыши</th>\n",
       "      <th>Ландшафт</th>\n",
       "    </tr>\n",
       "  </thead>\n",
       "  <tbody>\n",
       "    <tr>\n",
       "      <th>count</th>\n",
       "      <td>20</td>\n",
       "      <td>20</td>\n",
       "      <td>20</td>\n",
       "      <td>20</td>\n",
       "      <td>20</td>\n",
       "      <td>20</td>\n",
       "    </tr>\n",
       "    <tr>\n",
       "      <th>unique</th>\n",
       "      <td>20</td>\n",
       "      <td>4</td>\n",
       "      <td>4</td>\n",
       "      <td>3</td>\n",
       "      <td>4</td>\n",
       "      <td>5</td>\n",
       "    </tr>\n",
       "    <tr>\n",
       "      <th>top</th>\n",
       "      <td>208500</td>\n",
       "      <td>Дерево</td>\n",
       "      <td>ЮБ</td>\n",
       "      <td>Коттедж</td>\n",
       "      <td>Мансардная</td>\n",
       "      <td>Газон</td>\n",
       "    </tr>\n",
       "    <tr>\n",
       "      <th>freq</th>\n",
       "      <td>1</td>\n",
       "      <td>11</td>\n",
       "      <td>10</td>\n",
       "      <td>11</td>\n",
       "      <td>8</td>\n",
       "      <td>8</td>\n",
       "    </tr>\n",
       "  </tbody>\n",
       "</table>\n",
       "</div>"
      ],
      "text/plain": [
       "          Цена Материал отделки Район Тип дома   Тип крыши Ландшафт\n",
       "count       20               20    20       20          20       20\n",
       "unique      20                4     4        3           4        5\n",
       "top     208500           Дерево    ЮБ  Коттедж  Мансардная    Газон\n",
       "freq         1               11    10       11           8        8"
      ]
     },
     "execution_count": 105,
     "metadata": {},
     "output_type": "execute_result"
    }
   ],
   "source": [
    "data.describe()"
   ]
  },
  {
   "cell_type": "code",
   "execution_count": 106,
   "id": "74cfda59",
   "metadata": {},
   "outputs": [],
   "source": [
    "def MyLabelEncoder(categorical_feature):\n",
    "    unique_labels = list(set(categorical_feature))\n",
    "    label_dict = {label: idx for idx, label in enumerate(unique_labels)}\n",
    "    encoded_data = [label_dict[label] for label in categorical_feature]\n",
    "    return encoded_data"
   ]
  },
  {
   "cell_type": "code",
   "execution_count": 107,
   "id": "039b4dc0",
   "metadata": {},
   "outputs": [],
   "source": [
    "target = ['Цена']\n",
    "train_feature = ['Ландшафт']"
   ]
  },
  {
   "cell_type": "code",
   "execution_count": 108,
   "id": "74c42bd6",
   "metadata": {},
   "outputs": [],
   "source": [
    "data['Ландшафт'] = MyLabelEncoder(data['Ландшафт'])"
   ]
  },
  {
   "cell_type": "code",
   "execution_count": 109,
   "id": "737bde51",
   "metadata": {},
   "outputs": [
    {
     "data": {
      "text/html": [
       "<div>\n",
       "<style scoped>\n",
       "    .dataframe tbody tr th:only-of-type {\n",
       "        vertical-align: middle;\n",
       "    }\n",
       "\n",
       "    .dataframe tbody tr th {\n",
       "        vertical-align: top;\n",
       "    }\n",
       "\n",
       "    .dataframe thead th {\n",
       "        text-align: right;\n",
       "    }\n",
       "</style>\n",
       "<table border=\"1\" class=\"dataframe\">\n",
       "  <thead>\n",
       "    <tr style=\"text-align: right;\">\n",
       "      <th></th>\n",
       "      <th>Цена</th>\n",
       "      <th>Материал отделки</th>\n",
       "      <th>Район</th>\n",
       "      <th>Тип дома</th>\n",
       "      <th>Тип крыши</th>\n",
       "      <th>Ландшафт</th>\n",
       "    </tr>\n",
       "  </thead>\n",
       "  <tbody>\n",
       "    <tr>\n",
       "      <th>0</th>\n",
       "      <td>208500</td>\n",
       "      <td>Дерево</td>\n",
       "      <td>ЮБ</td>\n",
       "      <td>Коттедж</td>\n",
       "      <td>Мансардная</td>\n",
       "      <td>1</td>\n",
       "    </tr>\n",
       "    <tr>\n",
       "      <th>1</th>\n",
       "      <td>181500</td>\n",
       "      <td>Кирпич</td>\n",
       "      <td>СВ</td>\n",
       "      <td>Коттедж</td>\n",
       "      <td>Односкатная</td>\n",
       "      <td>1</td>\n",
       "    </tr>\n",
       "    <tr>\n",
       "      <th>2</th>\n",
       "      <td>223500</td>\n",
       "      <td>Краска</td>\n",
       "      <td>ЮБ</td>\n",
       "      <td>Таунхаус</td>\n",
       "      <td>Двускатная</td>\n",
       "      <td>3</td>\n",
       "    </tr>\n",
       "    <tr>\n",
       "      <th>3</th>\n",
       "      <td>140000</td>\n",
       "      <td>Дерево</td>\n",
       "      <td>МР</td>\n",
       "      <td>Коттедж</td>\n",
       "      <td>Мансардная</td>\n",
       "      <td>2</td>\n",
       "    </tr>\n",
       "    <tr>\n",
       "      <th>4</th>\n",
       "      <td>250000</td>\n",
       "      <td>Дерево</td>\n",
       "      <td>СВ</td>\n",
       "      <td>Коттедж</td>\n",
       "      <td>Мансардная</td>\n",
       "      <td>2</td>\n",
       "    </tr>\n",
       "    <tr>\n",
       "      <th>5</th>\n",
       "      <td>143000</td>\n",
       "      <td>Дерево</td>\n",
       "      <td>ЮБ</td>\n",
       "      <td>Дуплекс</td>\n",
       "      <td>Двускатная</td>\n",
       "      <td>3</td>\n",
       "    </tr>\n",
       "    <tr>\n",
       "      <th>6</th>\n",
       "      <td>307000</td>\n",
       "      <td>Краска</td>\n",
       "      <td>ЮБ</td>\n",
       "      <td>Коттедж</td>\n",
       "      <td>Двускатная</td>\n",
       "      <td>1</td>\n",
       "    </tr>\n",
       "    <tr>\n",
       "      <th>7</th>\n",
       "      <td>200000</td>\n",
       "      <td>Штукатурка</td>\n",
       "      <td>МР</td>\n",
       "      <td>Таунхаус</td>\n",
       "      <td>Многощипцовая</td>\n",
       "      <td>4</td>\n",
       "    </tr>\n",
       "    <tr>\n",
       "      <th>8</th>\n",
       "      <td>129900</td>\n",
       "      <td>Дерево</td>\n",
       "      <td>СТ</td>\n",
       "      <td>Таунхаус</td>\n",
       "      <td>Односкатная</td>\n",
       "      <td>4</td>\n",
       "    </tr>\n",
       "    <tr>\n",
       "      <th>9</th>\n",
       "      <td>118000</td>\n",
       "      <td>Штукатурка</td>\n",
       "      <td>МР</td>\n",
       "      <td>Таунхаус</td>\n",
       "      <td>Многощипцовая</td>\n",
       "      <td>1</td>\n",
       "    </tr>\n",
       "    <tr>\n",
       "      <th>10</th>\n",
       "      <td>129500</td>\n",
       "      <td>Дерево</td>\n",
       "      <td>ЮБ</td>\n",
       "      <td>Коттедж</td>\n",
       "      <td>Мансардная</td>\n",
       "      <td>0</td>\n",
       "    </tr>\n",
       "    <tr>\n",
       "      <th>11</th>\n",
       "      <td>345000</td>\n",
       "      <td>Дерево</td>\n",
       "      <td>ЮБ</td>\n",
       "      <td>Коттедж</td>\n",
       "      <td>Односкатная</td>\n",
       "      <td>0</td>\n",
       "    </tr>\n",
       "    <tr>\n",
       "      <th>12</th>\n",
       "      <td>144000</td>\n",
       "      <td>Штукатурка</td>\n",
       "      <td>ЮБ</td>\n",
       "      <td>Дуплекс</td>\n",
       "      <td>Многощипцовая</td>\n",
       "      <td>1</td>\n",
       "    </tr>\n",
       "    <tr>\n",
       "      <th>13</th>\n",
       "      <td>279500</td>\n",
       "      <td>Дерево</td>\n",
       "      <td>ЮБ</td>\n",
       "      <td>Коттедж</td>\n",
       "      <td>Мансардная</td>\n",
       "      <td>1</td>\n",
       "    </tr>\n",
       "    <tr>\n",
       "      <th>14</th>\n",
       "      <td>157000</td>\n",
       "      <td>Дерево</td>\n",
       "      <td>МР</td>\n",
       "      <td>Коттедж</td>\n",
       "      <td>Мансардная</td>\n",
       "      <td>4</td>\n",
       "    </tr>\n",
       "    <tr>\n",
       "      <th>15</th>\n",
       "      <td>132000</td>\n",
       "      <td>Кирпич</td>\n",
       "      <td>МР</td>\n",
       "      <td>Таунхаус</td>\n",
       "      <td>Мансардная</td>\n",
       "      <td>1</td>\n",
       "    </tr>\n",
       "    <tr>\n",
       "      <th>16</th>\n",
       "      <td>149000</td>\n",
       "      <td>Краска</td>\n",
       "      <td>СТ</td>\n",
       "      <td>Коттедж</td>\n",
       "      <td>Односкатная</td>\n",
       "      <td>0</td>\n",
       "    </tr>\n",
       "    <tr>\n",
       "      <th>17</th>\n",
       "      <td>90000</td>\n",
       "      <td>Дерево</td>\n",
       "      <td>СТ</td>\n",
       "      <td>Дуплекс</td>\n",
       "      <td>Двускатная</td>\n",
       "      <td>2</td>\n",
       "    </tr>\n",
       "    <tr>\n",
       "      <th>18</th>\n",
       "      <td>159000</td>\n",
       "      <td>Дерево</td>\n",
       "      <td>ЮБ</td>\n",
       "      <td>Коттедж</td>\n",
       "      <td>Мансардная</td>\n",
       "      <td>1</td>\n",
       "    </tr>\n",
       "    <tr>\n",
       "      <th>19</th>\n",
       "      <td>139000</td>\n",
       "      <td>Штукатурка</td>\n",
       "      <td>ЮБ</td>\n",
       "      <td>Дуплекс</td>\n",
       "      <td>Многощипцовая</td>\n",
       "      <td>0</td>\n",
       "    </tr>\n",
       "  </tbody>\n",
       "</table>\n",
       "</div>"
      ],
      "text/plain": [
       "      Цена Материал отделки Район  Тип дома      Тип крыши  Ландшафт\n",
       "0   208500           Дерево    ЮБ   Коттедж     Мансардная         1\n",
       "1   181500           Кирпич    СВ   Коттедж    Односкатная         1\n",
       "2   223500           Краска    ЮБ  Таунхаус     Двускатная         3\n",
       "3   140000           Дерево    МР   Коттедж     Мансардная         2\n",
       "4   250000           Дерево    СВ   Коттедж     Мансардная         2\n",
       "5   143000           Дерево    ЮБ   Дуплекс     Двускатная         3\n",
       "6   307000           Краска    ЮБ   Коттедж     Двускатная         1\n",
       "7   200000       Штукатурка    МР  Таунхаус  Многощипцовая         4\n",
       "8   129900           Дерево    СТ  Таунхаус    Односкатная         4\n",
       "9   118000       Штукатурка    МР  Таунхаус  Многощипцовая         1\n",
       "10  129500           Дерево    ЮБ   Коттедж     Мансардная         0\n",
       "11  345000           Дерево    ЮБ   Коттедж    Односкатная         0\n",
       "12  144000       Штукатурка    ЮБ   Дуплекс  Многощипцовая         1\n",
       "13  279500           Дерево    ЮБ   Коттедж     Мансардная         1\n",
       "14  157000           Дерево    МР   Коттедж     Мансардная         4\n",
       "15  132000           Кирпич    МР  Таунхаус     Мансардная         1\n",
       "16  149000           Краска    СТ   Коттедж    Односкатная         0\n",
       "17   90000           Дерево    СТ   Дуплекс     Двускатная         2\n",
       "18  159000           Дерево    ЮБ   Коттедж     Мансардная         1\n",
       "19  139000       Штукатурка    ЮБ   Дуплекс  Многощипцовая         0"
      ]
     },
     "execution_count": 109,
     "metadata": {},
     "output_type": "execute_result"
    }
   ],
   "source": [
    "data"
   ]
  },
  {
   "cell_type": "code",
   "execution_count": 110,
   "id": "ade2f50d",
   "metadata": {},
   "outputs": [],
   "source": [
    "X = np.array(data[train_feature], dtype=np.float64)\n",
    "y = np.array(data['Цена'], dtype=np.float64)[:, np.newaxis]"
   ]
  },
  {
   "cell_type": "code",
   "execution_count": 71,
   "id": "e100aef1",
   "metadata": {},
   "outputs": [],
   "source": [
    "class MyLinearRegression:\n",
    "    def __init__(self, fit_intercept=True):\n",
    "        self.fit_intercept = fit_intercept\n",
    "\n",
    "    def fit(self, X, y):\n",
    "        # Принимает на вход X, y и вычисляет веса по данной выборке\n",
    "\n",
    "        n, k = X.shape\n",
    "\n",
    "        X_train = X\n",
    "        if self.fit_intercept:\n",
    "            X_train = np.hstack((X, np.ones((n, 1))))\n",
    "\n",
    "        self.w = np.linalg.inv(X_train.T @ X_train) @ X_train.T @ y\n",
    "\n",
    "        return self\n",
    "\n",
    "    def predict(self, X):\n",
    "        # Принимает на вход X и возвращает ответы модели\n",
    "        n, k = X.shape\n",
    "        if self.fit_intercept:\n",
    "            X_train = np.hstack((X, np.ones((n, 1))))\n",
    "\n",
    "        y_pred = X_train @ self.w\n",
    "\n",
    "        return y_pred\n",
    "\n",
    "    def get_weights(self):\n",
    "        return self.w"
   ]
  },
  {
   "cell_type": "code",
   "execution_count": 119,
   "id": "97fc2bf9",
   "metadata": {},
   "outputs": [],
   "source": [
    "X_train, X_test, y_train, y_test = train_test_split(X, y, train_size=0.5)"
   ]
  },
  {
   "cell_type": "code",
   "execution_count": 120,
   "id": "c1ce71a9",
   "metadata": {},
   "outputs": [
    {
     "data": {
      "text/plain": [
       "array([[  3401.86335404],\n",
       "       [162206.83229814]])"
      ]
     },
     "execution_count": 120,
     "metadata": {},
     "output_type": "execute_result"
    }
   ],
   "source": [
    "regressor = MyLinearRegression()\n",
    "\n",
    "regressor.fit(X_train, y_train)\n",
    "\n",
    "predictions = regressor.predict(X_test)\n",
    "w = regressor.get_weights()\n",
    "w"
   ]
  },
  {
   "cell_type": "code",
   "execution_count": 121,
   "id": "a0ad8d01",
   "metadata": {},
   "outputs": [
    {
     "data": {
      "image/png": "[encoded data removed]",
      "text/plain": [
       "<Figure size 2000x700 with 3 Axes>"
      ]
     },
     "metadata": {},
     "output_type": "display_data"
    }
   ],
   "source": [
    "plt.figure(figsize=(20, 7))\n",
    "\n",
    "ax = None\n",
    "\n",
    "for i, types in enumerate([['train', 'test'], ['train'], ['test']]):\n",
    "    ax = plt.subplot(1, 3, i + 1, sharey=ax)\n",
    "    if 'train' in types:\n",
    "        plt.scatter(X_train, y_train, label='train', c='b')\n",
    "    if 'test' in types:\n",
    "        plt.scatter(X_test, y_test, label='test', c='orange')\n",
    "\n",
    "    plt.plot(X, regressor.predict(X), label='predicted', c='r')\n",
    "\n",
    "    plt.ylabel('target')\n",
    "    plt.xlabel('feature')\n",
    "    plt.title(\" \".join(types))\n",
    "    plt.grid(alpha=0.2)\n",
    "    plt.legend()\n",
    "\n",
    "plt.show()"
   ]
  },
  {
   "cell_type": "code",
   "execution_count": 114,
   "id": "04d53723",
   "metadata": {},
   "outputs": [
    {
     "data": {
      "image/png": "[encoded data removed]",
      "text/plain": [
       "<Figure size 1000x700 with 1 Axes>"
      ]
     },
     "metadata": {},
     "output_type": "display_data"
    }
   ],
   "source": [
    "sk_reg = LinearRegression().fit(X_train, y_train)\n",
    "\n",
    "plt.figure(figsize=(10, 7))\n",
    "\n",
    "\n",
    "plt.scatter(X_train, y_train, label='train')\n",
    "plt.scatter(X_test, y_test, label='test')\n",
    "plt.plot(X, regressor.predict(X), label='ours', c='r', linestyle=':')\n",
    "plt.plot(X, sk_reg.predict(X), label='sklearn', c='cyan', linestyle=':')\n",
    "\n",
    "plt.title(\"Different Prediction\")\n",
    "plt.ylabel('target')\n",
    "plt.xlabel('feature')\n",
    "plt.grid(alpha=0.2)\n",
    "plt.legend()\n",
    "plt.show()"
   ]
  },
  {
   "cell_type": "code",
   "execution_count": 124,
   "id": "2c97f63c",
   "metadata": {},
   "outputs": [
    {
     "name": "stdout",
     "output_type": "stream",
     "text": [
      "Train MSE:  1513778894.4099379\n",
      "Test MSE:  7918558763.705103\n"
     ]
    }
   ],
   "source": [
    "train_predictions = regressor.predict(X_train)\n",
    "test_predictions = regressor.predict(X_test)\n",
    "\n",
    "print('Train MSE: ', mean_squared_error(y_train, train_predictions))\n",
    "print('Test MSE: ', mean_squared_error(y_test, test_predictions))"
   ]
  },
  {
   "cell_type": "code",
   "execution_count": null,
   "id": "b5a9718e",
   "metadata": {},
   "outputs": [],
   "source": []
  }
 ],
 "metadata": {
  "kernelspec": {
   "display_name": "Python 3 (ipykernel)",
   "language": "python",
   "name": "python3"
  },
  "language_info": {
   "codemirror_mode": {
    "name": "ipython",
    "version": 3
   },
   "file_extension": ".py",
   "mimetype": "text/x-python",
   "name": "python",
   "nbconvert_exporter": "python",
   "pygments_lexer": "ipython3",
   "version": "3.10.9"
  }
 },
 "nbformat": 4,
 "nbformat_minor": 5
}
